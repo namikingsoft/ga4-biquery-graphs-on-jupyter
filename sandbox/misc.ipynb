{
 "cells": [
  {
   "cell_type": "markdown",
   "metadata": {},
   "source": [
    "# Misc\n",
    "\n",
    "This is sandbox."
   ]
  },
  {
   "cell_type": "markdown",
   "metadata": {},
   "source": [
    "## Black Code Formatter\n",
    "\n",
    "https://github.com/csurfer/blackcellmagic"
   ]
  },
  {
   "cell_type": "code",
   "execution_count": 67,
   "metadata": {},
   "outputs": [
    {
     "name": "stdout",
     "output_type": "stream",
     "text": [
      "Requirement already satisfied: blackcellmagic in /Users/namikingsoft/.pyenv/versions/3.10.1/lib/python3.10/site-packages (0.0.3)\n",
      "Requirement already satisfied: jupyter<2.0.0,>=1.0.0 in /Users/namikingsoft/.pyenv/versions/3.10.1/lib/python3.10/site-packages (from blackcellmagic) (1.0.0)\n",
      "Requirement already satisfied: black<22.0,>=21.9b0 in /Users/namikingsoft/.pyenv/versions/3.10.1/lib/python3.10/site-packages (from blackcellmagic) (21.12b0)\n",
      "Requirement already satisfied: typing-extensions!=3.10.0.1 in /Users/namikingsoft/.pyenv/versions/3.10.1/lib/python3.10/site-packages (from black<22.0,>=21.9b0->blackcellmagic) (4.0.1)\n",
      "Requirement already satisfied: tomli<2.0.0,>=0.2.6 in /Users/namikingsoft/.pyenv/versions/3.10.1/lib/python3.10/site-packages (from black<22.0,>=21.9b0->blackcellmagic) (1.2.3)\n",
      "Requirement already satisfied: pathspec<1,>=0.9.0 in /Users/namikingsoft/.pyenv/versions/3.10.1/lib/python3.10/site-packages (from black<22.0,>=21.9b0->blackcellmagic) (0.9.0)\n",
      "Requirement already satisfied: mypy-extensions>=0.4.3 in /Users/namikingsoft/.pyenv/versions/3.10.1/lib/python3.10/site-packages (from black<22.0,>=21.9b0->blackcellmagic) (0.4.3)\n",
      "Requirement already satisfied: click>=7.1.2 in /Users/namikingsoft/.pyenv/versions/3.10.1/lib/python3.10/site-packages (from black<22.0,>=21.9b0->blackcellmagic) (8.0.3)\n",
      "Requirement already satisfied: platformdirs>=2 in /Users/namikingsoft/.pyenv/versions/3.10.1/lib/python3.10/site-packages (from black<22.0,>=21.9b0->blackcellmagic) (2.4.1)\n",
      "Requirement already satisfied: ipywidgets in /Users/namikingsoft/.pyenv/versions/3.10.1/lib/python3.10/site-packages (from jupyter<2.0.0,>=1.0.0->blackcellmagic) (7.6.5)\n",
      "Requirement already satisfied: ipykernel in /Users/namikingsoft/.pyenv/versions/3.10.1/lib/python3.10/site-packages (from jupyter<2.0.0,>=1.0.0->blackcellmagic) (6.6.0)\n",
      "Requirement already satisfied: jupyter-console in /Users/namikingsoft/.pyenv/versions/3.10.1/lib/python3.10/site-packages (from jupyter<2.0.0,>=1.0.0->blackcellmagic) (6.4.0)\n",
      "Requirement already satisfied: notebook in /Users/namikingsoft/.pyenv/versions/3.10.1/lib/python3.10/site-packages (from jupyter<2.0.0,>=1.0.0->blackcellmagic) (6.4.6)\n",
      "Requirement already satisfied: nbconvert in /Users/namikingsoft/.pyenv/versions/3.10.1/lib/python3.10/site-packages (from jupyter<2.0.0,>=1.0.0->blackcellmagic) (6.3.0)\n",
      "Requirement already satisfied: qtconsole in /Users/namikingsoft/.pyenv/versions/3.10.1/lib/python3.10/site-packages (from jupyter<2.0.0,>=1.0.0->blackcellmagic) (5.2.2)\n",
      "Requirement already satisfied: appnope in /Users/namikingsoft/.pyenv/versions/3.10.1/lib/python3.10/site-packages (from ipykernel->jupyter<2.0.0,>=1.0.0->blackcellmagic) (0.1.2)\n",
      "Requirement already satisfied: tornado<7.0,>=4.2 in /Users/namikingsoft/.pyenv/versions/3.10.1/lib/python3.10/site-packages (from ipykernel->jupyter<2.0.0,>=1.0.0->blackcellmagic) (6.1)\n",
      "Requirement already satisfied: matplotlib-inline<0.2.0,>=0.1.0 in /Users/namikingsoft/.pyenv/versions/3.10.1/lib/python3.10/site-packages (from ipykernel->jupyter<2.0.0,>=1.0.0->blackcellmagic) (0.1.3)\n",
      "Requirement already satisfied: ipython>=7.23.1 in /Users/namikingsoft/.pyenv/versions/3.10.1/lib/python3.10/site-packages (from ipykernel->jupyter<2.0.0,>=1.0.0->blackcellmagic) (7.30.1)\n",
      "Requirement already satisfied: debugpy<2.0,>=1.0.0 in /Users/namikingsoft/.pyenv/versions/3.10.1/lib/python3.10/site-packages (from ipykernel->jupyter<2.0.0,>=1.0.0->blackcellmagic) (1.5.1)\n",
      "Requirement already satisfied: traitlets<6.0,>=5.1.0 in /Users/namikingsoft/.pyenv/versions/3.10.1/lib/python3.10/site-packages (from ipykernel->jupyter<2.0.0,>=1.0.0->blackcellmagic) (5.1.1)\n",
      "Requirement already satisfied: jupyter-client<8.0 in /Users/namikingsoft/.pyenv/versions/3.10.1/lib/python3.10/site-packages (from ipykernel->jupyter<2.0.0,>=1.0.0->blackcellmagic) (7.1.0)\n",
      "Requirement already satisfied: widgetsnbextension~=3.5.0 in /Users/namikingsoft/.pyenv/versions/3.10.1/lib/python3.10/site-packages (from ipywidgets->jupyter<2.0.0,>=1.0.0->blackcellmagic) (3.5.2)\n",
      "Requirement already satisfied: ipython-genutils~=0.2.0 in /Users/namikingsoft/.pyenv/versions/3.10.1/lib/python3.10/site-packages (from ipywidgets->jupyter<2.0.0,>=1.0.0->blackcellmagic) (0.2.0)\n",
      "Requirement already satisfied: jupyterlab-widgets>=1.0.0 in /Users/namikingsoft/.pyenv/versions/3.10.1/lib/python3.10/site-packages (from ipywidgets->jupyter<2.0.0,>=1.0.0->blackcellmagic) (1.0.2)\n",
      "Requirement already satisfied: nbformat>=4.2.0 in /Users/namikingsoft/.pyenv/versions/3.10.1/lib/python3.10/site-packages (from ipywidgets->jupyter<2.0.0,>=1.0.0->blackcellmagic) (5.1.3)\n",
      "Requirement already satisfied: pygments in /Users/namikingsoft/.pyenv/versions/3.10.1/lib/python3.10/site-packages (from jupyter-console->jupyter<2.0.0,>=1.0.0->blackcellmagic) (2.11.1)\n",
      "Requirement already satisfied: prompt-toolkit!=3.0.0,!=3.0.1,<3.1.0,>=2.0.0 in /Users/namikingsoft/.pyenv/versions/3.10.1/lib/python3.10/site-packages (from jupyter-console->jupyter<2.0.0,>=1.0.0->blackcellmagic) (3.0.24)\n",
      "Requirement already satisfied: jupyter-core in /Users/namikingsoft/.pyenv/versions/3.10.1/lib/python3.10/site-packages (from nbconvert->jupyter<2.0.0,>=1.0.0->blackcellmagic) (4.9.1)\n",
      "Requirement already satisfied: entrypoints>=0.2.2 in /Users/namikingsoft/.pyenv/versions/3.10.1/lib/python3.10/site-packages (from nbconvert->jupyter<2.0.0,>=1.0.0->blackcellmagic) (0.3)\n",
      "Requirement already satisfied: testpath in /Users/namikingsoft/.pyenv/versions/3.10.1/lib/python3.10/site-packages (from nbconvert->jupyter<2.0.0,>=1.0.0->blackcellmagic) (0.5.0)\n",
      "Requirement already satisfied: jinja2>=2.4 in /Users/namikingsoft/.pyenv/versions/3.10.1/lib/python3.10/site-packages (from nbconvert->jupyter<2.0.0,>=1.0.0->blackcellmagic) (3.0.3)\n",
      "Requirement already satisfied: pandocfilters>=1.4.1 in /Users/namikingsoft/.pyenv/versions/3.10.1/lib/python3.10/site-packages (from nbconvert->jupyter<2.0.0,>=1.0.0->blackcellmagic) (1.5.0)\n",
      "Requirement already satisfied: defusedxml in /Users/namikingsoft/.pyenv/versions/3.10.1/lib/python3.10/site-packages (from nbconvert->jupyter<2.0.0,>=1.0.0->blackcellmagic) (0.7.1)\n",
      "Requirement already satisfied: nbclient<0.6.0,>=0.5.0 in /Users/namikingsoft/.pyenv/versions/3.10.1/lib/python3.10/site-packages (from nbconvert->jupyter<2.0.0,>=1.0.0->blackcellmagic) (0.5.9)\n",
      "Requirement already satisfied: bleach in /Users/namikingsoft/.pyenv/versions/3.10.1/lib/python3.10/site-packages (from nbconvert->jupyter<2.0.0,>=1.0.0->blackcellmagic) (4.1.0)\n",
      "Requirement already satisfied: jupyterlab-pygments in /Users/namikingsoft/.pyenv/versions/3.10.1/lib/python3.10/site-packages (from nbconvert->jupyter<2.0.0,>=1.0.0->blackcellmagic) (0.1.2)\n",
      "Requirement already satisfied: mistune<2,>=0.8.1 in /Users/namikingsoft/.pyenv/versions/3.10.1/lib/python3.10/site-packages (from nbconvert->jupyter<2.0.0,>=1.0.0->blackcellmagic) (0.8.4)\n",
      "Requirement already satisfied: argon2-cffi in /Users/namikingsoft/.pyenv/versions/3.10.1/lib/python3.10/site-packages (from notebook->jupyter<2.0.0,>=1.0.0->blackcellmagic) (21.3.0)\n",
      "Requirement already satisfied: terminado>=0.8.3 in /Users/namikingsoft/.pyenv/versions/3.10.1/lib/python3.10/site-packages (from notebook->jupyter<2.0.0,>=1.0.0->blackcellmagic) (0.12.1)\n",
      "Requirement already satisfied: pyzmq>=17 in /Users/namikingsoft/.pyenv/versions/3.10.1/lib/python3.10/site-packages (from notebook->jupyter<2.0.0,>=1.0.0->blackcellmagic) (22.3.0)\n",
      "Requirement already satisfied: nest-asyncio>=1.5 in /Users/namikingsoft/.pyenv/versions/3.10.1/lib/python3.10/site-packages (from notebook->jupyter<2.0.0,>=1.0.0->blackcellmagic) (1.5.4)\n",
      "Requirement already satisfied: Send2Trash>=1.8.0 in /Users/namikingsoft/.pyenv/versions/3.10.1/lib/python3.10/site-packages (from notebook->jupyter<2.0.0,>=1.0.0->blackcellmagic) (1.8.0)\n",
      "Requirement already satisfied: prometheus-client in /Users/namikingsoft/.pyenv/versions/3.10.1/lib/python3.10/site-packages (from notebook->jupyter<2.0.0,>=1.0.0->blackcellmagic) (0.12.0)\n",
      "Requirement already satisfied: qtpy in /Users/namikingsoft/.pyenv/versions/3.10.1/lib/python3.10/site-packages (from qtconsole->jupyter<2.0.0,>=1.0.0->blackcellmagic) (2.0.0)\n",
      "Requirement already satisfied: pexpect>4.3 in /Users/namikingsoft/.pyenv/versions/3.10.1/lib/python3.10/site-packages (from ipython>=7.23.1->ipykernel->jupyter<2.0.0,>=1.0.0->blackcellmagic) (4.8.0)\n",
      "Requirement already satisfied: pickleshare in /Users/namikingsoft/.pyenv/versions/3.10.1/lib/python3.10/site-packages (from ipython>=7.23.1->ipykernel->jupyter<2.0.0,>=1.0.0->blackcellmagic) (0.7.5)\n",
      "Requirement already satisfied: decorator in /Users/namikingsoft/.pyenv/versions/3.10.1/lib/python3.10/site-packages (from ipython>=7.23.1->ipykernel->jupyter<2.0.0,>=1.0.0->blackcellmagic) (5.1.0)\n",
      "Requirement already satisfied: setuptools>=18.5 in /Users/namikingsoft/.pyenv/versions/3.10.1/lib/python3.10/site-packages (from ipython>=7.23.1->ipykernel->jupyter<2.0.0,>=1.0.0->blackcellmagic) (58.1.0)\n",
      "Requirement already satisfied: jedi>=0.16 in /Users/namikingsoft/.pyenv/versions/3.10.1/lib/python3.10/site-packages (from ipython>=7.23.1->ipykernel->jupyter<2.0.0,>=1.0.0->blackcellmagic) (0.18.1)\n",
      "Requirement already satisfied: backcall in /Users/namikingsoft/.pyenv/versions/3.10.1/lib/python3.10/site-packages (from ipython>=7.23.1->ipykernel->jupyter<2.0.0,>=1.0.0->blackcellmagic) (0.2.0)\n",
      "Requirement already satisfied: MarkupSafe>=2.0 in /Users/namikingsoft/.pyenv/versions/3.10.1/lib/python3.10/site-packages (from jinja2>=2.4->nbconvert->jupyter<2.0.0,>=1.0.0->blackcellmagic) (2.0.1)\n",
      "Requirement already satisfied: python-dateutil>=2.1 in /Users/namikingsoft/.pyenv/versions/3.10.1/lib/python3.10/site-packages (from jupyter-client<8.0->ipykernel->jupyter<2.0.0,>=1.0.0->blackcellmagic) (2.8.2)\n",
      "Requirement already satisfied: jsonschema!=2.5.0,>=2.4 in /Users/namikingsoft/.pyenv/versions/3.10.1/lib/python3.10/site-packages (from nbformat>=4.2.0->ipywidgets->jupyter<2.0.0,>=1.0.0->blackcellmagic) (4.3.3)\n",
      "Requirement already satisfied: wcwidth in /Users/namikingsoft/.pyenv/versions/3.10.1/lib/python3.10/site-packages (from prompt-toolkit!=3.0.0,!=3.0.1,<3.1.0,>=2.0.0->jupyter-console->jupyter<2.0.0,>=1.0.0->blackcellmagic) (0.2.5)\n",
      "Requirement already satisfied: ptyprocess in /Users/namikingsoft/.pyenv/versions/3.10.1/lib/python3.10/site-packages (from terminado>=0.8.3->notebook->jupyter<2.0.0,>=1.0.0->blackcellmagic) (0.7.0)\n",
      "Requirement already satisfied: argon2-cffi-bindings in /Users/namikingsoft/.pyenv/versions/3.10.1/lib/python3.10/site-packages (from argon2-cffi->notebook->jupyter<2.0.0,>=1.0.0->blackcellmagic) (21.2.0)\n",
      "Requirement already satisfied: webencodings in /Users/namikingsoft/.pyenv/versions/3.10.1/lib/python3.10/site-packages (from bleach->nbconvert->jupyter<2.0.0,>=1.0.0->blackcellmagic) (0.5.1)\n",
      "Requirement already satisfied: six>=1.9.0 in /Users/namikingsoft/.pyenv/versions/3.10.1/lib/python3.10/site-packages (from bleach->nbconvert->jupyter<2.0.0,>=1.0.0->blackcellmagic) (1.16.0)\n",
      "Requirement already satisfied: packaging in /Users/namikingsoft/.pyenv/versions/3.10.1/lib/python3.10/site-packages (from bleach->nbconvert->jupyter<2.0.0,>=1.0.0->blackcellmagic) (21.3)\n",
      "Requirement already satisfied: parso<0.9.0,>=0.8.0 in /Users/namikingsoft/.pyenv/versions/3.10.1/lib/python3.10/site-packages (from jedi>=0.16->ipython>=7.23.1->ipykernel->jupyter<2.0.0,>=1.0.0->blackcellmagic) (0.8.3)\n",
      "Requirement already satisfied: attrs>=17.4.0 in /Users/namikingsoft/.pyenv/versions/3.10.1/lib/python3.10/site-packages (from jsonschema!=2.5.0,>=2.4->nbformat>=4.2.0->ipywidgets->jupyter<2.0.0,>=1.0.0->blackcellmagic) (21.4.0)\n",
      "Requirement already satisfied: pyrsistent!=0.17.0,!=0.17.1,!=0.17.2,>=0.14.0 in /Users/namikingsoft/.pyenv/versions/3.10.1/lib/python3.10/site-packages (from jsonschema!=2.5.0,>=2.4->nbformat>=4.2.0->ipywidgets->jupyter<2.0.0,>=1.0.0->blackcellmagic) (0.18.0)\n",
      "Requirement already satisfied: cffi>=1.0.1 in /Users/namikingsoft/.pyenv/versions/3.10.1/lib/python3.10/site-packages (from argon2-cffi-bindings->argon2-cffi->notebook->jupyter<2.0.0,>=1.0.0->blackcellmagic) (1.15.0)\n",
      "Requirement already satisfied: pyparsing!=3.0.5,>=2.0.2 in /Users/namikingsoft/.pyenv/versions/3.10.1/lib/python3.10/site-packages (from packaging->bleach->nbconvert->jupyter<2.0.0,>=1.0.0->blackcellmagic) (3.0.6)\n",
      "Requirement already satisfied: pycparser in /Users/namikingsoft/.pyenv/versions/3.10.1/lib/python3.10/site-packages (from cffi>=1.0.1->argon2-cffi-bindings->argon2-cffi->notebook->jupyter<2.0.0,>=1.0.0->blackcellmagic) (2.21)\n",
      "Note: you may need to restart the kernel to use updated packages.\n",
      "The blackcellmagic extension is already loaded. To reload it, use:\n",
      "  %reload_ext blackcellmagic\n"
     ]
    }
   ],
   "source": [
    "%pip install blackcellmagic\n",
    "%load_ext blackcellmagic"
   ]
  },
  {
   "cell_type": "markdown",
   "metadata": {},
   "source": [
    "## Plot Data Frame"
   ]
  },
  {
   "cell_type": "code",
   "execution_count": 12,
   "metadata": {},
   "outputs": [
    {
     "name": "stdout",
     "output_type": "stream",
     "text": [
      "Requirement already satisfied: numpy in /Users/namikingsoft/.pyenv/versions/3.10.1/lib/python3.10/site-packages (1.22.0)\n",
      "Requirement already satisfied: pandas in /Users/namikingsoft/.pyenv/versions/3.10.1/lib/python3.10/site-packages (1.3.5)\n",
      "Requirement already satisfied: matplotlib in /Users/namikingsoft/.pyenv/versions/3.10.1/lib/python3.10/site-packages (3.5.1)\n",
      "Requirement already satisfied: python-dateutil>=2.7.3 in /Users/namikingsoft/.pyenv/versions/3.10.1/lib/python3.10/site-packages (from pandas) (2.8.2)\n",
      "Requirement already satisfied: pytz>=2017.3 in /Users/namikingsoft/.pyenv/versions/3.10.1/lib/python3.10/site-packages (from pandas) (2021.3)\n",
      "Requirement already satisfied: cycler>=0.10 in /Users/namikingsoft/.pyenv/versions/3.10.1/lib/python3.10/site-packages (from matplotlib) (0.11.0)\n",
      "Requirement already satisfied: fonttools>=4.22.0 in /Users/namikingsoft/.pyenv/versions/3.10.1/lib/python3.10/site-packages (from matplotlib) (4.28.5)\n",
      "Requirement already satisfied: kiwisolver>=1.0.1 in /Users/namikingsoft/.pyenv/versions/3.10.1/lib/python3.10/site-packages (from matplotlib) (1.3.2)\n",
      "Requirement already satisfied: pyparsing>=2.2.1 in /Users/namikingsoft/.pyenv/versions/3.10.1/lib/python3.10/site-packages (from matplotlib) (3.0.6)\n",
      "Requirement already satisfied: pillow>=6.2.0 in /Users/namikingsoft/.pyenv/versions/3.10.1/lib/python3.10/site-packages (from matplotlib) (8.4.0)\n",
      "Requirement already satisfied: packaging>=20.0 in /Users/namikingsoft/.pyenv/versions/3.10.1/lib/python3.10/site-packages (from matplotlib) (21.3)\n",
      "Requirement already satisfied: six>=1.5 in /Users/namikingsoft/.pyenv/versions/3.10.1/lib/python3.10/site-packages (from python-dateutil>=2.7.3->pandas) (1.16.0)\n",
      "Note: you may need to restart the kernel to use updated packages.\n"
     ]
    }
   ],
   "source": [
    "%pip install numpy pandas matplotlib\n",
    "\n",
    "import numpy as np\n",
    "import pandas as pd\n",
    "import matplotlib.pyplot as plt"
   ]
  },
  {
   "cell_type": "code",
   "execution_count": 13,
   "metadata": {},
   "outputs": [
    {
     "data": {
      "text/plain": [
       "array([100, 200])"
      ]
     },
     "execution_count": 13,
     "metadata": {},
     "output_type": "execute_result"
    }
   ],
   "source": [
    "df = pd.DataFrame(data=[{'a': 100, 'b': 200},  {'a': 300, 'b': 400}])\n",
    "np.array([100, 200])"
   ]
  },
  {
   "cell_type": "code",
   "execution_count": 14,
   "metadata": {},
   "outputs": [
    {
     "data": {
      "text/html": [
       "<div>\n",
       "<style scoped>\n",
       "    .dataframe tbody tr th:only-of-type {\n",
       "        vertical-align: middle;\n",
       "    }\n",
       "\n",
       "    .dataframe tbody tr th {\n",
       "        vertical-align: top;\n",
       "    }\n",
       "\n",
       "    .dataframe thead th {\n",
       "        text-align: right;\n",
       "    }\n",
       "</style>\n",
       "<table border=\"1\" class=\"dataframe\">\n",
       "  <thead>\n",
       "    <tr style=\"text-align: right;\">\n",
       "      <th></th>\n",
       "      <th>a</th>\n",
       "      <th>b</th>\n",
       "    </tr>\n",
       "  </thead>\n",
       "  <tbody>\n",
       "    <tr>\n",
       "      <th>0</th>\n",
       "      <td>100</td>\n",
       "      <td>200</td>\n",
       "    </tr>\n",
       "    <tr>\n",
       "      <th>1</th>\n",
       "      <td>300</td>\n",
       "      <td>400</td>\n",
       "    </tr>\n",
       "  </tbody>\n",
       "</table>\n",
       "</div>"
      ],
      "text/plain": [
       "     a    b\n",
       "0  100  200\n",
       "1  300  400"
      ]
     },
     "execution_count": 14,
     "metadata": {},
     "output_type": "execute_result"
    }
   ],
   "source": [
    "df"
   ]
  },
  {
   "cell_type": "code",
   "execution_count": 15,
   "metadata": {},
   "outputs": [
    {
     "data": {
      "image/png": "[encoded data removed]",
      "text/plain": [
       "<Figure size 432x288 with 1 Axes>"
      ]
     },
     "metadata": {
      "needs_background": "light"
     },
     "output_type": "display_data"
    }
   ],
   "source": [
    "plt.plot([0, 1, 2], [0, 1, 2], \"-\")\n",
    "_ = plt.ylim(ymin=0)"
   ]
  }
 ],
 "metadata": {
  "interpreter": {
   "hash": "aee8b7b246df8f9039afb4144a1f6fd8d2ca17a180786b69acc140d282b71a49"
  },
  "kernelspec": {
   "display_name": "Python 3.9.2 64-bit",
   "language": "python",
   "name": "python3"
  },
  "language_info": {
   "codemirror_mode": {
    "name": "ipython",
    "version": 3
   },
   "file_extension": ".py",
   "mimetype": "text/x-python",
   "name": "python",
   "nbconvert_exporter": "python",
   "pygments_lexer": "ipython3",
   "version": "3.10.1"
  },
  "orig_nbformat": 4
 },
 "nbformat": 4,
 "nbformat_minor": 2
}
