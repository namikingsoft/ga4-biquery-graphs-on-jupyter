{
 "cells": [
  {
   "cell_type": "markdown",
   "metadata": {},
   "source": [
    "# 00. Getting Started\n",
    "\n",
    "This is tutorial of integration GA4 BigQuery."
   ]
  },
  {
   "cell_type": "markdown",
   "metadata": {},
   "source": [
    "## Create and download json file includes secret key\n",
    "\n",
    "https://cloud.google.com/docs/authentication/getting-started\n",
    "\n",
    "Copy and edit `.env` to downloaded local json path. \n",
    "\n",
    "```\n",
    "cp .env.template .env\n",
    "```\n",
    "\n",
    "```\n",
    "GOOGLE_APPLICATION_CREDENTIALS=\"path/to/service-account.json\"\n",
    "```\n"
   ]
  },
  {
   "cell_type": "markdown",
   "metadata": {},
   "source": [
    "## Load Environment Variables"
   ]
  },
  {
   "cell_type": "code",
   "execution_count": 1,
   "metadata": {},
   "outputs": [
    {
     "name": "stdout",
     "output_type": "stream",
     "text": [
      "Requirement already satisfied: python-dotenv in /Users/namikingsoft/.pyenv/versions/3.10.1/lib/python3.10/site-packages (0.19.2)\n",
      "Note: you may need to restart the kernel to use updated packages.\n"
     ]
    }
   ],
   "source": [
    "%pip install python-dotenv\n",
    "%load_ext dotenv\n",
    "%dotenv"
   ]
  },
  {
   "cell_type": "code",
   "execution_count": 2,
   "metadata": {},
   "outputs": [
    {
     "data": {
      "text/plain": [
       "'/Users/namikingsoft/Downloads/bigquery-service-account.json'"
      ]
     },
     "execution_count": 2,
     "metadata": {},
     "output_type": "execute_result"
    }
   ],
   "source": [
    "import os\n",
    "os.getenv('GOOGLE_APPLICATION_CREDENTIALS')"
   ]
  },
  {
   "cell_type": "markdown",
   "metadata": {},
   "source": [
    "## Integrate BigQuery\n",
    "\n",
    "https://cloud.google.com/bigquery/docs/visualize-jupyter"
   ]
  },
  {
   "cell_type": "code",
   "execution_count": 3,
   "metadata": {},
   "outputs": [
    {
     "name": "stdout",
     "output_type": "stream",
     "text": [
      "Requirement already satisfied: google-cloud-bigquery in /Users/namikingsoft/.pyenv/versions/3.10.1/lib/python3.10/site-packages (2.31.0)\n",
      "Requirement already satisfied: google-cloud-bigquery-storage in /Users/namikingsoft/.pyenv/versions/3.10.1/lib/python3.10/site-packages (2.10.1)\n",
      "Requirement already satisfied: pyarrow in /Users/namikingsoft/.pyenv/versions/3.10.1/lib/python3.10/site-packages (6.0.1)\n",
      "Requirement already satisfied: tqdm in /Users/namikingsoft/.pyenv/versions/3.10.1/lib/python3.10/site-packages (4.62.3)\n",
      "Requirement already satisfied: pandas in /Users/namikingsoft/.pyenv/versions/3.10.1/lib/python3.10/site-packages (1.3.5)\n",
      "Requirement already satisfied: google-resumable-media<3.0dev,>=0.6.0 in /Users/namikingsoft/.pyenv/versions/3.10.1/lib/python3.10/site-packages (from google-cloud-bigquery) (2.1.0)\n",
      "Requirement already satisfied: python-dateutil<3.0dev,>=2.7.2 in /Users/namikingsoft/.pyenv/versions/3.10.1/lib/python3.10/site-packages (from google-cloud-bigquery) (2.8.2)\n",
      "Requirement already satisfied: protobuf>=3.12.0 in /Users/namikingsoft/.pyenv/versions/3.10.1/lib/python3.10/site-packages (from google-cloud-bigquery) (3.19.1)\n",
      "Requirement already satisfied: google-cloud-core<3.0.0dev,>=1.4.1 in /Users/namikingsoft/.pyenv/versions/3.10.1/lib/python3.10/site-packages (from google-cloud-bigquery) (2.2.1)\n",
      "Requirement already satisfied: requests<3.0.0dev,>=2.18.0 in /Users/namikingsoft/.pyenv/versions/3.10.1/lib/python3.10/site-packages (from google-cloud-bigquery) (2.26.0)\n",
      "Requirement already satisfied: proto-plus>=1.10.0 in /Users/namikingsoft/.pyenv/versions/3.10.1/lib/python3.10/site-packages (from google-cloud-bigquery) (1.19.8)\n",
      "Requirement already satisfied: packaging>=14.3 in /Users/namikingsoft/.pyenv/versions/3.10.1/lib/python3.10/site-packages (from google-cloud-bigquery) (21.3)\n",
      "Requirement already satisfied: grpcio<2.0dev,>=1.38.1 in /Users/namikingsoft/.pyenv/versions/3.10.1/lib/python3.10/site-packages (from google-cloud-bigquery) (1.43.0)\n",
      "Requirement already satisfied: google-api-core[grpc]<3.0.0dev,>=1.29.0 in /Users/namikingsoft/.pyenv/versions/3.10.1/lib/python3.10/site-packages (from google-cloud-bigquery) (2.3.2)\n",
      "Requirement already satisfied: libcst>=0.2.5 in /Users/namikingsoft/.pyenv/versions/3.10.1/lib/python3.10/site-packages (from google-cloud-bigquery-storage) (0.3.23)\n",
      "Requirement already satisfied: numpy>=1.16.6 in /Users/namikingsoft/.pyenv/versions/3.10.1/lib/python3.10/site-packages (from pyarrow) (1.22.0)\n",
      "Requirement already satisfied: pytz>=2017.3 in /Users/namikingsoft/.pyenv/versions/3.10.1/lib/python3.10/site-packages (from pandas) (2021.3)\n",
      "Requirement already satisfied: google-auth<3.0dev,>=1.25.0 in /Users/namikingsoft/.pyenv/versions/3.10.1/lib/python3.10/site-packages (from google-api-core[grpc]<3.0.0dev,>=1.29.0->google-cloud-bigquery) (2.3.3)\n",
      "Requirement already satisfied: setuptools>=40.3.0 in /Users/namikingsoft/.pyenv/versions/3.10.1/lib/python3.10/site-packages (from google-api-core[grpc]<3.0.0dev,>=1.29.0->google-cloud-bigquery) (58.1.0)\n",
      "Requirement already satisfied: googleapis-common-protos<2.0dev,>=1.52.0 in /Users/namikingsoft/.pyenv/versions/3.10.1/lib/python3.10/site-packages (from google-api-core[grpc]<3.0.0dev,>=1.29.0->google-cloud-bigquery) (1.54.0)\n",
      "Requirement already satisfied: grpcio-status<2.0dev,>=1.33.2 in /Users/namikingsoft/.pyenv/versions/3.10.1/lib/python3.10/site-packages (from google-api-core[grpc]<3.0.0dev,>=1.29.0->google-cloud-bigquery) (1.43.0)\n",
      "Requirement already satisfied: google-crc32c<2.0dev,>=1.0 in /Users/namikingsoft/.pyenv/versions/3.10.1/lib/python3.10/site-packages (from google-resumable-media<3.0dev,>=0.6.0->google-cloud-bigquery) (1.3.0)\n",
      "Requirement already satisfied: six>=1.5.2 in /Users/namikingsoft/.pyenv/versions/3.10.1/lib/python3.10/site-packages (from grpcio<2.0dev,>=1.38.1->google-cloud-bigquery) (1.16.0)\n",
      "Requirement already satisfied: typing-inspect>=0.4.0 in /Users/namikingsoft/.pyenv/versions/3.10.1/lib/python3.10/site-packages (from libcst>=0.2.5->google-cloud-bigquery-storage) (0.7.1)\n",
      "Requirement already satisfied: pyyaml>=5.2 in /Users/namikingsoft/.pyenv/versions/3.10.1/lib/python3.10/site-packages (from libcst>=0.2.5->google-cloud-bigquery-storage) (6.0)\n",
      "Requirement already satisfied: typing-extensions>=3.7.4.2 in /Users/namikingsoft/.pyenv/versions/3.10.1/lib/python3.10/site-packages (from libcst>=0.2.5->google-cloud-bigquery-storage) (4.0.1)\n",
      "Requirement already satisfied: pyparsing!=3.0.5,>=2.0.2 in /Users/namikingsoft/.pyenv/versions/3.10.1/lib/python3.10/site-packages (from packaging>=14.3->google-cloud-bigquery) (3.0.6)\n",
      "Requirement already satisfied: urllib3<1.27,>=1.21.1 in /Users/namikingsoft/.pyenv/versions/3.10.1/lib/python3.10/site-packages (from requests<3.0.0dev,>=2.18.0->google-cloud-bigquery) (1.26.7)\n",
      "Requirement already satisfied: certifi>=2017.4.17 in /Users/namikingsoft/.pyenv/versions/3.10.1/lib/python3.10/site-packages (from requests<3.0.0dev,>=2.18.0->google-cloud-bigquery) (2021.10.8)\n",
      "Requirement already satisfied: idna<4,>=2.5 in /Users/namikingsoft/.pyenv/versions/3.10.1/lib/python3.10/site-packages (from requests<3.0.0dev,>=2.18.0->google-cloud-bigquery) (3.3)\n",
      "Requirement already satisfied: charset-normalizer~=2.0.0 in /Users/namikingsoft/.pyenv/versions/3.10.1/lib/python3.10/site-packages (from requests<3.0.0dev,>=2.18.0->google-cloud-bigquery) (2.0.9)\n",
      "Requirement already satisfied: rsa<5,>=3.1.4 in /Users/namikingsoft/.pyenv/versions/3.10.1/lib/python3.10/site-packages (from google-auth<3.0dev,>=1.25.0->google-api-core[grpc]<3.0.0dev,>=1.29.0->google-cloud-bigquery) (4.8)\n",
      "Requirement already satisfied: pyasn1-modules>=0.2.1 in /Users/namikingsoft/.pyenv/versions/3.10.1/lib/python3.10/site-packages (from google-auth<3.0dev,>=1.25.0->google-api-core[grpc]<3.0.0dev,>=1.29.0->google-cloud-bigquery) (0.2.8)\n",
      "Requirement already satisfied: cachetools<5.0,>=2.0.0 in /Users/namikingsoft/.pyenv/versions/3.10.1/lib/python3.10/site-packages (from google-auth<3.0dev,>=1.25.0->google-api-core[grpc]<3.0.0dev,>=1.29.0->google-cloud-bigquery) (4.2.4)\n",
      "Requirement already satisfied: mypy-extensions>=0.3.0 in /Users/namikingsoft/.pyenv/versions/3.10.1/lib/python3.10/site-packages (from typing-inspect>=0.4.0->libcst>=0.2.5->google-cloud-bigquery-storage) (0.4.3)\n",
      "Requirement already satisfied: pyasn1<0.5.0,>=0.4.6 in /Users/namikingsoft/.pyenv/versions/3.10.1/lib/python3.10/site-packages (from pyasn1-modules>=0.2.1->google-auth<3.0dev,>=1.25.0->google-api-core[grpc]<3.0.0dev,>=1.29.0->google-cloud-bigquery) (0.4.8)\n",
      "Note: you may need to restart the kernel to use updated packages.\n"
     ]
    }
   ],
   "source": [
    "%pip install google-cloud-bigquery google-cloud-bigquery-storage pyarrow tqdm pandas\n",
    "%load_ext google.cloud.bigquery\n",
    "\n",
    "from google.cloud import bigquery\n",
    "client = bigquery.Client()"
   ]
  },
  {
   "cell_type": "markdown",
   "metadata": {},
   "source": [
    "Using public ga4 sample dataset.  \n",
    "https://developers.google.cn/analytics/bigquery/web-ecommerce-demo-dataset?hl=ja"
   ]
  },
  {
   "cell_type": "code",
   "execution_count": 4,
   "metadata": {},
   "outputs": [
    {
     "name": "stderr",
     "output_type": "stream",
     "text": [
      "Query complete after 0.02s: 100%|██████████| 3/3 [00:00<00:00, 1562.32query/s]                        \n",
      "Downloading: 100%|██████████| 17/17 [00:01<00:00, 10.05rows/s]\n"
     ]
    }
   ],
   "source": [
    "%%bigquery event_counts\n",
    "SELECT\n",
    "  event_name,\n",
    "  COUNT(event_name) AS count\n",
    "FROM\n",
    "  `bigquery-public-data.ga4_obfuscated_sample_ecommerce.events_*`\n",
    "WHERE\n",
    "  _TABLE_SUFFIX BETWEEN '20201101'\n",
    "  AND '20210131'\n",
    "GROUP BY\n",
    "  event_name\n",
    "LIMIT\n",
    "  100"
   ]
  },
  {
   "cell_type": "code",
   "execution_count": 5,
   "metadata": {},
   "outputs": [
    {
     "data": {
      "text/html": [
       "<div>\n",
       "<style scoped>\n",
       "    .dataframe tbody tr th:only-of-type {\n",
       "        vertical-align: middle;\n",
       "    }\n",
       "\n",
       "    .dataframe tbody tr th {\n",
       "        vertical-align: top;\n",
       "    }\n",
       "\n",
       "    .dataframe thead th {\n",
       "        text-align: right;\n",
       "    }\n",
       "</style>\n",
       "<table border=\"1\" class=\"dataframe\">\n",
       "  <thead>\n",
       "    <tr style=\"text-align: right;\">\n",
       "      <th></th>\n",
       "      <th>event_name</th>\n",
       "      <th>count</th>\n",
       "    </tr>\n",
       "  </thead>\n",
       "  <tbody>\n",
       "    <tr>\n",
       "      <th>0</th>\n",
       "      <td>view_promotion</td>\n",
       "      <td>190104</td>\n",
       "    </tr>\n",
       "    <tr>\n",
       "      <th>1</th>\n",
       "      <td>select_item</td>\n",
       "      <td>31007</td>\n",
       "    </tr>\n",
       "    <tr>\n",
       "      <th>2</th>\n",
       "      <td>view_item_list</td>\n",
       "      <td>71</td>\n",
       "    </tr>\n",
       "    <tr>\n",
       "      <th>3</th>\n",
       "      <td>user_engagement</td>\n",
       "      <td>1058721</td>\n",
       "    </tr>\n",
       "    <tr>\n",
       "      <th>4</th>\n",
       "      <td>session_start</td>\n",
       "      <td>354970</td>\n",
       "    </tr>\n",
       "    <tr>\n",
       "      <th>5</th>\n",
       "      <td>first_visit</td>\n",
       "      <td>257462</td>\n",
       "    </tr>\n",
       "    <tr>\n",
       "      <th>6</th>\n",
       "      <td>begin_checkout</td>\n",
       "      <td>38757</td>\n",
       "    </tr>\n",
       "    <tr>\n",
       "      <th>7</th>\n",
       "      <td>add_shipping_info</td>\n",
       "      <td>19722</td>\n",
       "    </tr>\n",
       "    <tr>\n",
       "      <th>8</th>\n",
       "      <td>click</td>\n",
       "      <td>1446</td>\n",
       "    </tr>\n",
       "    <tr>\n",
       "      <th>9</th>\n",
       "      <td>add_to_cart</td>\n",
       "      <td>58543</td>\n",
       "    </tr>\n",
       "    <tr>\n",
       "      <th>10</th>\n",
       "      <td>view_item</td>\n",
       "      <td>386068</td>\n",
       "    </tr>\n",
       "    <tr>\n",
       "      <th>11</th>\n",
       "      <td>page_view</td>\n",
       "      <td>1350428</td>\n",
       "    </tr>\n",
       "    <tr>\n",
       "      <th>12</th>\n",
       "      <td>scroll</td>\n",
       "      <td>493072</td>\n",
       "    </tr>\n",
       "    <tr>\n",
       "      <th>13</th>\n",
       "      <td>select_promotion</td>\n",
       "      <td>9450</td>\n",
       "    </tr>\n",
       "    <tr>\n",
       "      <th>14</th>\n",
       "      <td>purchase</td>\n",
       "      <td>5692</td>\n",
       "    </tr>\n",
       "    <tr>\n",
       "      <th>15</th>\n",
       "      <td>view_search_results</td>\n",
       "      <td>26172</td>\n",
       "    </tr>\n",
       "    <tr>\n",
       "      <th>16</th>\n",
       "      <td>add_payment_info</td>\n",
       "      <td>13899</td>\n",
       "    </tr>\n",
       "  </tbody>\n",
       "</table>\n",
       "</div>"
      ],
      "text/plain": [
       "             event_name    count\n",
       "0        view_promotion   190104\n",
       "1           select_item    31007\n",
       "2        view_item_list       71\n",
       "3       user_engagement  1058721\n",
       "4         session_start   354970\n",
       "5           first_visit   257462\n",
       "6        begin_checkout    38757\n",
       "7     add_shipping_info    19722\n",
       "8                 click     1446\n",
       "9           add_to_cart    58543\n",
       "10            view_item   386068\n",
       "11            page_view  1350428\n",
       "12               scroll   493072\n",
       "13     select_promotion     9450\n",
       "14             purchase     5692\n",
       "15  view_search_results    26172\n",
       "16     add_payment_info    13899"
      ]
     },
     "execution_count": 5,
     "metadata": {},
     "output_type": "execute_result"
    }
   ],
   "source": [
    "event_counts"
   ]
  },
  {
   "cell_type": "code",
   "execution_count": 6,
   "metadata": {},
   "outputs": [
    {
     "data": {
      "text/plain": [
       "<AxesSubplot:ylabel='event_name'>"
      ]
     },
     "execution_count": 6,
     "metadata": {},
     "output_type": "execute_result"
    },
    {
     "data": {
      "image/png": "[encoded data removed]",
      "text/plain": [
       "<Figure size 432x288 with 1 Axes>"
      ]
     },
     "metadata": {
      "needs_background": "light"
     },
     "output_type": "display_data"
    }
   ],
   "source": [
    "event_counts.plot.barh(x=\"event_name\")"
   ]
  },
  {
   "cell_type": "code",
   "execution_count": null,
   "metadata": {},
   "outputs": [],
   "source": []
  }
 ],
 "metadata": {
  "interpreter": {
   "hash": "aee8b7b246df8f9039afb4144a1f6fd8d2ca17a180786b69acc140d282b71a49"
  },
  "kernelspec": {
   "display_name": "Python 3.9.2 64-bit",
   "language": "python",
   "name": "python3"
  },
  "language_info": {
   "codemirror_mode": {
    "name": "ipython",
    "version": 3
   },
   "file_extension": ".py",
   "mimetype": "text/x-python",
   "name": "python",
   "nbconvert_exporter": "python",
   "pygments_lexer": "ipython3",
   "version": "3.10.1"
  },
  "orig_nbformat": 4
 },
 "nbformat": 4,
 "nbformat_minor": 2
}
