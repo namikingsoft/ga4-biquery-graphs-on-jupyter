{
 "cells": [
  {
   "cell_type": "markdown",
   "metadata": {},
   "source": [
    "# 01. Event Graphs\n",
    "\n",
    "This is visualization sample of ga4 events network powered by cytoscape."
   ]
  },
  {
   "cell_type": "markdown",
   "metadata": {},
   "source": [
    "## Install"
   ]
  },
  {
   "cell_type": "code",
   "execution_count": 1,
   "metadata": {},
   "outputs": [
    {
     "name": "stdout",
     "output_type": "stream",
     "text": [
      "Requirement already satisfied: python-dotenv in /Users/namikingsoft/.pyenv/versions/3.10.1/lib/python3.10/site-packages (0.19.2)\n",
      "Note: you may need to restart the kernel to use updated packages.\n",
      "Requirement already satisfied: blackcellmagic in /Users/namikingsoft/.pyenv/versions/3.10.1/lib/python3.10/site-packages (0.0.3)\n",
      "Requirement already satisfied: black<22.0,>=21.9b0 in /Users/namikingsoft/.pyenv/versions/3.10.1/lib/python3.10/site-packages (from blackcellmagic) (21.12b0)\n",
      "Requirement already satisfied: jupyter<2.0.0,>=1.0.0 in /Users/namikingsoft/.pyenv/versions/3.10.1/lib/python3.10/site-packages (from blackcellmagic) (1.0.0)\n",
      "Requirement already satisfied: tomli<2.0.0,>=0.2.6 in /Users/namikingsoft/.pyenv/versions/3.10.1/lib/python3.10/site-packages (from black<22.0,>=21.9b0->blackcellmagic) (1.2.3)\n",
      "Requirement already satisfied: platformdirs>=2 in /Users/namikingsoft/.pyenv/versions/3.10.1/lib/python3.10/site-packages (from black<22.0,>=21.9b0->blackcellmagic) (2.4.1)\n",
      "Requirement already satisfied: pathspec<1,>=0.9.0 in /Users/namikingsoft/.pyenv/versions/3.10.1/lib/python3.10/site-packages (from black<22.0,>=21.9b0->blackcellmagic) (0.9.0)\n",
      "Requirement already satisfied: mypy-extensions>=0.4.3 in /Users/namikingsoft/.pyenv/versions/3.10.1/lib/python3.10/site-packages (from black<22.0,>=21.9b0->blackcellmagic) (0.4.3)\n",
      "Requirement already satisfied: typing-extensions>=3.10.0.0 in /Users/namikingsoft/.pyenv/versions/3.10.1/lib/python3.10/site-packages (from black<22.0,>=21.9b0->blackcellmagic) (4.0.1)\n",
      "Requirement already satisfied: click>=7.1.2 in /Users/namikingsoft/.pyenv/versions/3.10.1/lib/python3.10/site-packages (from black<22.0,>=21.9b0->blackcellmagic) (8.0.3)\n",
      "Requirement already satisfied: nbconvert in /Users/namikingsoft/.pyenv/versions/3.10.1/lib/python3.10/site-packages (from jupyter<2.0.0,>=1.0.0->blackcellmagic) (6.3.0)\n",
      "Requirement already satisfied: ipykernel in /Users/namikingsoft/.pyenv/versions/3.10.1/lib/python3.10/site-packages (from jupyter<2.0.0,>=1.0.0->blackcellmagic) (6.6.0)\n",
      "Requirement already satisfied: qtconsole in /Users/namikingsoft/.pyenv/versions/3.10.1/lib/python3.10/site-packages (from jupyter<2.0.0,>=1.0.0->blackcellmagic) (5.2.2)\n",
      "Requirement already satisfied: ipywidgets in /Users/namikingsoft/.pyenv/versions/3.10.1/lib/python3.10/site-packages (from jupyter<2.0.0,>=1.0.0->blackcellmagic) (7.6.5)\n",
      "Requirement already satisfied: jupyter-console in /Users/namikingsoft/.pyenv/versions/3.10.1/lib/python3.10/site-packages (from jupyter<2.0.0,>=1.0.0->blackcellmagic) (6.4.0)\n",
      "Requirement already satisfied: notebook in /Users/namikingsoft/.pyenv/versions/3.10.1/lib/python3.10/site-packages (from jupyter<2.0.0,>=1.0.0->blackcellmagic) (6.4.6)\n",
      "Requirement already satisfied: matplotlib-inline<0.2.0,>=0.1.0 in /Users/namikingsoft/.pyenv/versions/3.10.1/lib/python3.10/site-packages (from ipykernel->jupyter<2.0.0,>=1.0.0->blackcellmagic) (0.1.3)\n",
      "Requirement already satisfied: appnope in /Users/namikingsoft/.pyenv/versions/3.10.1/lib/python3.10/site-packages (from ipykernel->jupyter<2.0.0,>=1.0.0->blackcellmagic) (0.1.2)\n",
      "Requirement already satisfied: debugpy<2.0,>=1.0.0 in /Users/namikingsoft/.pyenv/versions/3.10.1/lib/python3.10/site-packages (from ipykernel->jupyter<2.0.0,>=1.0.0->blackcellmagic) (1.5.1)\n",
      "Requirement already satisfied: jupyter-client<8.0 in /Users/namikingsoft/.pyenv/versions/3.10.1/lib/python3.10/site-packages (from ipykernel->jupyter<2.0.0,>=1.0.0->blackcellmagic) (7.1.0)\n",
      "Requirement already satisfied: tornado<7.0,>=4.2 in /Users/namikingsoft/.pyenv/versions/3.10.1/lib/python3.10/site-packages (from ipykernel->jupyter<2.0.0,>=1.0.0->blackcellmagic) (6.1)\n",
      "Requirement already satisfied: traitlets<6.0,>=5.1.0 in /Users/namikingsoft/.pyenv/versions/3.10.1/lib/python3.10/site-packages (from ipykernel->jupyter<2.0.0,>=1.0.0->blackcellmagic) (5.1.1)\n",
      "Requirement already satisfied: ipython>=7.23.1 in /Users/namikingsoft/.pyenv/versions/3.10.1/lib/python3.10/site-packages (from ipykernel->jupyter<2.0.0,>=1.0.0->blackcellmagic) (7.30.1)\n",
      "Requirement already satisfied: ipython-genutils~=0.2.0 in /Users/namikingsoft/.pyenv/versions/3.10.1/lib/python3.10/site-packages (from ipywidgets->jupyter<2.0.0,>=1.0.0->blackcellmagic) (0.2.0)\n",
      "Requirement already satisfied: widgetsnbextension~=3.5.0 in /Users/namikingsoft/.pyenv/versions/3.10.1/lib/python3.10/site-packages (from ipywidgets->jupyter<2.0.0,>=1.0.0->blackcellmagic) (3.5.2)\n",
      "Requirement already satisfied: nbformat>=4.2.0 in /Users/namikingsoft/.pyenv/versions/3.10.1/lib/python3.10/site-packages (from ipywidgets->jupyter<2.0.0,>=1.0.0->blackcellmagic) (5.1.3)\n",
      "Requirement already satisfied: jupyterlab-widgets>=1.0.0 in /Users/namikingsoft/.pyenv/versions/3.10.1/lib/python3.10/site-packages (from ipywidgets->jupyter<2.0.0,>=1.0.0->blackcellmagic) (1.0.2)\n",
      "Requirement already satisfied: pygments in /Users/namikingsoft/.pyenv/versions/3.10.1/lib/python3.10/site-packages (from jupyter-console->jupyter<2.0.0,>=1.0.0->blackcellmagic) (2.11.1)\n",
      "Requirement already satisfied: prompt-toolkit!=3.0.0,!=3.0.1,<3.1.0,>=2.0.0 in /Users/namikingsoft/.pyenv/versions/3.10.1/lib/python3.10/site-packages (from jupyter-console->jupyter<2.0.0,>=1.0.0->blackcellmagic) (3.0.24)\n",
      "Requirement already satisfied: testpath in /Users/namikingsoft/.pyenv/versions/3.10.1/lib/python3.10/site-packages (from nbconvert->jupyter<2.0.0,>=1.0.0->blackcellmagic) (0.5.0)\n",
      "Requirement already satisfied: bleach in /Users/namikingsoft/.pyenv/versions/3.10.1/lib/python3.10/site-packages (from nbconvert->jupyter<2.0.0,>=1.0.0->blackcellmagic) (4.1.0)\n",
      "Requirement already satisfied: mistune<2,>=0.8.1 in /Users/namikingsoft/.pyenv/versions/3.10.1/lib/python3.10/site-packages (from nbconvert->jupyter<2.0.0,>=1.0.0->blackcellmagic) (0.8.4)\n",
      "Requirement already satisfied: jinja2>=2.4 in /Users/namikingsoft/.pyenv/versions/3.10.1/lib/python3.10/site-packages (from nbconvert->jupyter<2.0.0,>=1.0.0->blackcellmagic) (3.0.3)\n",
      "Requirement already satisfied: entrypoints>=0.2.2 in /Users/namikingsoft/.pyenv/versions/3.10.1/lib/python3.10/site-packages (from nbconvert->jupyter<2.0.0,>=1.0.0->blackcellmagic) (0.3)\n",
      "Requirement already satisfied: nbclient<0.6.0,>=0.5.0 in /Users/namikingsoft/.pyenv/versions/3.10.1/lib/python3.10/site-packages (from nbconvert->jupyter<2.0.0,>=1.0.0->blackcellmagic) (0.5.9)\n",
      "Requirement already satisfied: jupyter-core in /Users/namikingsoft/.pyenv/versions/3.10.1/lib/python3.10/site-packages (from nbconvert->jupyter<2.0.0,>=1.0.0->blackcellmagic) (4.9.1)\n",
      "Requirement already satisfied: defusedxml in /Users/namikingsoft/.pyenv/versions/3.10.1/lib/python3.10/site-packages (from nbconvert->jupyter<2.0.0,>=1.0.0->blackcellmagic) (0.7.1)\n",
      "Requirement already satisfied: pandocfilters>=1.4.1 in /Users/namikingsoft/.pyenv/versions/3.10.1/lib/python3.10/site-packages (from nbconvert->jupyter<2.0.0,>=1.0.0->blackcellmagic) (1.5.0)\n",
      "Requirement already satisfied: jupyterlab-pygments in /Users/namikingsoft/.pyenv/versions/3.10.1/lib/python3.10/site-packages (from nbconvert->jupyter<2.0.0,>=1.0.0->blackcellmagic) (0.1.2)\n",
      "Requirement already satisfied: argon2-cffi in /Users/namikingsoft/.pyenv/versions/3.10.1/lib/python3.10/site-packages (from notebook->jupyter<2.0.0,>=1.0.0->blackcellmagic) (21.3.0)\n",
      "Requirement already satisfied: Send2Trash>=1.8.0 in /Users/namikingsoft/.pyenv/versions/3.10.1/lib/python3.10/site-packages (from notebook->jupyter<2.0.0,>=1.0.0->blackcellmagic) (1.8.0)\n",
      "Requirement already satisfied: nest-asyncio>=1.5 in /Users/namikingsoft/.pyenv/versions/3.10.1/lib/python3.10/site-packages (from notebook->jupyter<2.0.0,>=1.0.0->blackcellmagic) (1.5.4)\n",
      "Requirement already satisfied: pyzmq>=17 in /Users/namikingsoft/.pyenv/versions/3.10.1/lib/python3.10/site-packages (from notebook->jupyter<2.0.0,>=1.0.0->blackcellmagic) (22.3.0)\n",
      "Requirement already satisfied: terminado>=0.8.3 in /Users/namikingsoft/.pyenv/versions/3.10.1/lib/python3.10/site-packages (from notebook->jupyter<2.0.0,>=1.0.0->blackcellmagic) (0.12.1)\n",
      "Requirement already satisfied: prometheus-client in /Users/namikingsoft/.pyenv/versions/3.10.1/lib/python3.10/site-packages (from notebook->jupyter<2.0.0,>=1.0.0->blackcellmagic) (0.12.0)\n",
      "Requirement already satisfied: qtpy in /Users/namikingsoft/.pyenv/versions/3.10.1/lib/python3.10/site-packages (from qtconsole->jupyter<2.0.0,>=1.0.0->blackcellmagic) (2.0.0)\n",
      "Requirement already satisfied: setuptools>=18.5 in /Users/namikingsoft/.pyenv/versions/3.10.1/lib/python3.10/site-packages (from ipython>=7.23.1->ipykernel->jupyter<2.0.0,>=1.0.0->blackcellmagic) (58.1.0)\n",
      "Requirement already satisfied: jedi>=0.16 in /Users/namikingsoft/.pyenv/versions/3.10.1/lib/python3.10/site-packages (from ipython>=7.23.1->ipykernel->jupyter<2.0.0,>=1.0.0->blackcellmagic) (0.18.1)\n",
      "Requirement already satisfied: pickleshare in /Users/namikingsoft/.pyenv/versions/3.10.1/lib/python3.10/site-packages (from ipython>=7.23.1->ipykernel->jupyter<2.0.0,>=1.0.0->blackcellmagic) (0.7.5)\n",
      "Requirement already satisfied: pexpect>4.3 in /Users/namikingsoft/.pyenv/versions/3.10.1/lib/python3.10/site-packages (from ipython>=7.23.1->ipykernel->jupyter<2.0.0,>=1.0.0->blackcellmagic) (4.8.0)\n",
      "Requirement already satisfied: backcall in /Users/namikingsoft/.pyenv/versions/3.10.1/lib/python3.10/site-packages (from ipython>=7.23.1->ipykernel->jupyter<2.0.0,>=1.0.0->blackcellmagic) (0.2.0)\n",
      "Requirement already satisfied: decorator in /Users/namikingsoft/.pyenv/versions/3.10.1/lib/python3.10/site-packages (from ipython>=7.23.1->ipykernel->jupyter<2.0.0,>=1.0.0->blackcellmagic) (5.1.0)\n",
      "Requirement already satisfied: MarkupSafe>=2.0 in /Users/namikingsoft/.pyenv/versions/3.10.1/lib/python3.10/site-packages (from jinja2>=2.4->nbconvert->jupyter<2.0.0,>=1.0.0->blackcellmagic) (2.0.1)\n",
      "Requirement already satisfied: python-dateutil>=2.1 in /Users/namikingsoft/.pyenv/versions/3.10.1/lib/python3.10/site-packages (from jupyter-client<8.0->ipykernel->jupyter<2.0.0,>=1.0.0->blackcellmagic) (2.8.2)\n",
      "Requirement already satisfied: jsonschema!=2.5.0,>=2.4 in /Users/namikingsoft/.pyenv/versions/3.10.1/lib/python3.10/site-packages (from nbformat>=4.2.0->ipywidgets->jupyter<2.0.0,>=1.0.0->blackcellmagic) (4.3.3)\n",
      "Requirement already satisfied: wcwidth in /Users/namikingsoft/.pyenv/versions/3.10.1/lib/python3.10/site-packages (from prompt-toolkit!=3.0.0,!=3.0.1,<3.1.0,>=2.0.0->jupyter-console->jupyter<2.0.0,>=1.0.0->blackcellmagic) (0.2.5)\n",
      "Requirement already satisfied: ptyprocess in /Users/namikingsoft/.pyenv/versions/3.10.1/lib/python3.10/site-packages (from terminado>=0.8.3->notebook->jupyter<2.0.0,>=1.0.0->blackcellmagic) (0.7.0)\n",
      "Requirement already satisfied: argon2-cffi-bindings in /Users/namikingsoft/.pyenv/versions/3.10.1/lib/python3.10/site-packages (from argon2-cffi->notebook->jupyter<2.0.0,>=1.0.0->blackcellmagic) (21.2.0)\n",
      "Requirement already satisfied: packaging in /Users/namikingsoft/.pyenv/versions/3.10.1/lib/python3.10/site-packages (from bleach->nbconvert->jupyter<2.0.0,>=1.0.0->blackcellmagic) (21.3)\n",
      "Requirement already satisfied: webencodings in /Users/namikingsoft/.pyenv/versions/3.10.1/lib/python3.10/site-packages (from bleach->nbconvert->jupyter<2.0.0,>=1.0.0->blackcellmagic) (0.5.1)\n",
      "Requirement already satisfied: six>=1.9.0 in /Users/namikingsoft/.pyenv/versions/3.10.1/lib/python3.10/site-packages (from bleach->nbconvert->jupyter<2.0.0,>=1.0.0->blackcellmagic) (1.16.0)\n",
      "Requirement already satisfied: parso<0.9.0,>=0.8.0 in /Users/namikingsoft/.pyenv/versions/3.10.1/lib/python3.10/site-packages (from jedi>=0.16->ipython>=7.23.1->ipykernel->jupyter<2.0.0,>=1.0.0->blackcellmagic) (0.8.3)\n",
      "Requirement already satisfied: pyrsistent!=0.17.0,!=0.17.1,!=0.17.2,>=0.14.0 in /Users/namikingsoft/.pyenv/versions/3.10.1/lib/python3.10/site-packages (from jsonschema!=2.5.0,>=2.4->nbformat>=4.2.0->ipywidgets->jupyter<2.0.0,>=1.0.0->blackcellmagic) (0.18.0)\n",
      "Requirement already satisfied: attrs>=17.4.0 in /Users/namikingsoft/.pyenv/versions/3.10.1/lib/python3.10/site-packages (from jsonschema!=2.5.0,>=2.4->nbformat>=4.2.0->ipywidgets->jupyter<2.0.0,>=1.0.0->blackcellmagic) (21.4.0)\n",
      "Requirement already satisfied: cffi>=1.0.1 in /Users/namikingsoft/.pyenv/versions/3.10.1/lib/python3.10/site-packages (from argon2-cffi-bindings->argon2-cffi->notebook->jupyter<2.0.0,>=1.0.0->blackcellmagic) (1.15.0)\n",
      "Requirement already satisfied: pyparsing!=3.0.5,>=2.0.2 in /Users/namikingsoft/.pyenv/versions/3.10.1/lib/python3.10/site-packages (from packaging->bleach->nbconvert->jupyter<2.0.0,>=1.0.0->blackcellmagic) (3.0.6)\n",
      "Requirement already satisfied: pycparser in /Users/namikingsoft/.pyenv/versions/3.10.1/lib/python3.10/site-packages (from cffi>=1.0.1->argon2-cffi-bindings->argon2-cffi->notebook->jupyter<2.0.0,>=1.0.0->blackcellmagic) (2.21)\n",
      "Note: you may need to restart the kernel to use updated packages.\n",
      "Requirement already satisfied: google-cloud-bigquery in /Users/namikingsoft/.pyenv/versions/3.10.1/lib/python3.10/site-packages (2.31.0)\n",
      "Requirement already satisfied: google-cloud-bigquery-storage in /Users/namikingsoft/.pyenv/versions/3.10.1/lib/python3.10/site-packages (2.10.1)\n",
      "Requirement already satisfied: pyarrow in /Users/namikingsoft/.pyenv/versions/3.10.1/lib/python3.10/site-packages (6.0.1)\n",
      "Requirement already satisfied: tqdm in /Users/namikingsoft/.pyenv/versions/3.10.1/lib/python3.10/site-packages (4.62.3)\n",
      "Requirement already satisfied: pandas in /Users/namikingsoft/.pyenv/versions/3.10.1/lib/python3.10/site-packages (1.3.5)\n",
      "Requirement already satisfied: numpy in /Users/namikingsoft/.pyenv/versions/3.10.1/lib/python3.10/site-packages (1.22.0)\n",
      "Requirement already satisfied: grpcio<2.0dev,>=1.38.1 in /Users/namikingsoft/.pyenv/versions/3.10.1/lib/python3.10/site-packages (from google-cloud-bigquery) (1.43.0)\n",
      "Requirement already satisfied: python-dateutil<3.0dev,>=2.7.2 in /Users/namikingsoft/.pyenv/versions/3.10.1/lib/python3.10/site-packages (from google-cloud-bigquery) (2.8.2)\n",
      "Requirement already satisfied: packaging>=14.3 in /Users/namikingsoft/.pyenv/versions/3.10.1/lib/python3.10/site-packages (from google-cloud-bigquery) (21.3)\n",
      "Requirement already satisfied: requests<3.0.0dev,>=2.18.0 in /Users/namikingsoft/.pyenv/versions/3.10.1/lib/python3.10/site-packages (from google-cloud-bigquery) (2.26.0)\n",
      "Requirement already satisfied: protobuf>=3.12.0 in /Users/namikingsoft/.pyenv/versions/3.10.1/lib/python3.10/site-packages (from google-cloud-bigquery) (3.19.1)\n",
      "Requirement already satisfied: google-resumable-media<3.0dev,>=0.6.0 in /Users/namikingsoft/.pyenv/versions/3.10.1/lib/python3.10/site-packages (from google-cloud-bigquery) (2.1.0)\n",
      "Requirement already satisfied: google-api-core[grpc]<3.0.0dev,>=1.29.0 in /Users/namikingsoft/.pyenv/versions/3.10.1/lib/python3.10/site-packages (from google-cloud-bigquery) (2.3.2)\n",
      "Requirement already satisfied: google-cloud-core<3.0.0dev,>=1.4.1 in /Users/namikingsoft/.pyenv/versions/3.10.1/lib/python3.10/site-packages (from google-cloud-bigquery) (2.2.1)\n",
      "Requirement already satisfied: proto-plus>=1.10.0 in /Users/namikingsoft/.pyenv/versions/3.10.1/lib/python3.10/site-packages (from google-cloud-bigquery) (1.19.8)\n",
      "Requirement already satisfied: libcst>=0.2.5 in /Users/namikingsoft/.pyenv/versions/3.10.1/lib/python3.10/site-packages (from google-cloud-bigquery-storage) (0.3.23)\n",
      "Requirement already satisfied: pytz>=2017.3 in /Users/namikingsoft/.pyenv/versions/3.10.1/lib/python3.10/site-packages (from pandas) (2021.3)\n",
      "Requirement already satisfied: setuptools>=40.3.0 in /Users/namikingsoft/.pyenv/versions/3.10.1/lib/python3.10/site-packages (from google-api-core[grpc]<3.0.0dev,>=1.29.0->google-cloud-bigquery) (58.1.0)\n",
      "Requirement already satisfied: google-auth<3.0dev,>=1.25.0 in /Users/namikingsoft/.pyenv/versions/3.10.1/lib/python3.10/site-packages (from google-api-core[grpc]<3.0.0dev,>=1.29.0->google-cloud-bigquery) (2.3.3)\n",
      "Requirement already satisfied: googleapis-common-protos<2.0dev,>=1.52.0 in /Users/namikingsoft/.pyenv/versions/3.10.1/lib/python3.10/site-packages (from google-api-core[grpc]<3.0.0dev,>=1.29.0->google-cloud-bigquery) (1.54.0)\n",
      "Requirement already satisfied: grpcio-status<2.0dev,>=1.33.2 in /Users/namikingsoft/.pyenv/versions/3.10.1/lib/python3.10/site-packages (from google-api-core[grpc]<3.0.0dev,>=1.29.0->google-cloud-bigquery) (1.43.0)\n",
      "Requirement already satisfied: google-crc32c<2.0dev,>=1.0 in /Users/namikingsoft/.pyenv/versions/3.10.1/lib/python3.10/site-packages (from google-resumable-media<3.0dev,>=0.6.0->google-cloud-bigquery) (1.3.0)\n",
      "Requirement already satisfied: six>=1.5.2 in /Users/namikingsoft/.pyenv/versions/3.10.1/lib/python3.10/site-packages (from grpcio<2.0dev,>=1.38.1->google-cloud-bigquery) (1.16.0)\n",
      "Requirement already satisfied: typing-inspect>=0.4.0 in /Users/namikingsoft/.pyenv/versions/3.10.1/lib/python3.10/site-packages (from libcst>=0.2.5->google-cloud-bigquery-storage) (0.7.1)\n",
      "Requirement already satisfied: typing-extensions>=3.7.4.2 in /Users/namikingsoft/.pyenv/versions/3.10.1/lib/python3.10/site-packages (from libcst>=0.2.5->google-cloud-bigquery-storage) (4.0.1)\n",
      "Requirement already satisfied: pyyaml>=5.2 in /Users/namikingsoft/.pyenv/versions/3.10.1/lib/python3.10/site-packages (from libcst>=0.2.5->google-cloud-bigquery-storage) (6.0)\n",
      "Requirement already satisfied: pyparsing!=3.0.5,>=2.0.2 in /Users/namikingsoft/.pyenv/versions/3.10.1/lib/python3.10/site-packages (from packaging>=14.3->google-cloud-bigquery) (3.0.6)\n",
      "Requirement already satisfied: idna<4,>=2.5 in /Users/namikingsoft/.pyenv/versions/3.10.1/lib/python3.10/site-packages (from requests<3.0.0dev,>=2.18.0->google-cloud-bigquery) (3.3)\n",
      "Requirement already satisfied: urllib3<1.27,>=1.21.1 in /Users/namikingsoft/.pyenv/versions/3.10.1/lib/python3.10/site-packages (from requests<3.0.0dev,>=2.18.0->google-cloud-bigquery) (1.26.7)\n",
      "Requirement already satisfied: charset-normalizer~=2.0.0 in /Users/namikingsoft/.pyenv/versions/3.10.1/lib/python3.10/site-packages (from requests<3.0.0dev,>=2.18.0->google-cloud-bigquery) (2.0.9)\n",
      "Requirement already satisfied: certifi>=2017.4.17 in /Users/namikingsoft/.pyenv/versions/3.10.1/lib/python3.10/site-packages (from requests<3.0.0dev,>=2.18.0->google-cloud-bigquery) (2021.10.8)\n",
      "Requirement already satisfied: pyasn1-modules>=0.2.1 in /Users/namikingsoft/.pyenv/versions/3.10.1/lib/python3.10/site-packages (from google-auth<3.0dev,>=1.25.0->google-api-core[grpc]<3.0.0dev,>=1.29.0->google-cloud-bigquery) (0.2.8)\n",
      "Requirement already satisfied: cachetools<5.0,>=2.0.0 in /Users/namikingsoft/.pyenv/versions/3.10.1/lib/python3.10/site-packages (from google-auth<3.0dev,>=1.25.0->google-api-core[grpc]<3.0.0dev,>=1.29.0->google-cloud-bigquery) (4.2.4)\n",
      "Requirement already satisfied: rsa<5,>=3.1.4 in /Users/namikingsoft/.pyenv/versions/3.10.1/lib/python3.10/site-packages (from google-auth<3.0dev,>=1.25.0->google-api-core[grpc]<3.0.0dev,>=1.29.0->google-cloud-bigquery) (4.8)\n",
      "Requirement already satisfied: mypy-extensions>=0.3.0 in /Users/namikingsoft/.pyenv/versions/3.10.1/lib/python3.10/site-packages (from typing-inspect>=0.4.0->libcst>=0.2.5->google-cloud-bigquery-storage) (0.4.3)\n",
      "Requirement already satisfied: pyasn1<0.5.0,>=0.4.6 in /Users/namikingsoft/.pyenv/versions/3.10.1/lib/python3.10/site-packages (from pyasn1-modules>=0.2.1->google-auth<3.0dev,>=1.25.0->google-api-core[grpc]<3.0.0dev,>=1.29.0->google-cloud-bigquery) (0.4.8)\n",
      "Note: you may need to restart the kernel to use updated packages.\n"
     ]
    }
   ],
   "source": [
    "\n",
    "# environment variables\n",
    "%pip install python-dotenv\n",
    "%load_ext dotenv\n",
    "%dotenv\n",
    "\n",
    "# code formatter\n",
    "%pip install blackcellmagic\n",
    "%load_ext blackcellmagic\n",
    "\n",
    "# bigquery\n",
    "%pip install google-cloud-bigquery google-cloud-bigquery-storage pyarrow tqdm pandas numpy\n",
    "%load_ext google.cloud.bigquery\n",
    "\n",
    "import ipywidgets as widgets\n",
    "import ipycytoscape as ics\n",
    "import pandas as pd\n",
    "import numpy as np"
   ]
  },
  {
   "cell_type": "markdown",
   "metadata": {},
   "source": [
    "## Edges"
   ]
  },
  {
   "cell_type": "code",
   "execution_count": 2,
   "metadata": {},
   "outputs": [
    {
     "name": "stderr",
     "output_type": "stream",
     "text": [
      "Query is running:   0%|          | 0/1 [00:00<?, ?query/s]"
     ]
    },
    {
     "name": "stderr",
     "output_type": "stream",
     "text": [
      "Query complete after 0.01s: 100%|██████████| 7/7 [00:00<00:00, 3044.71query/s]                        \n",
      "Downloading: 100%|██████████| 28/28 [00:03<00:00,  9.20rows/s]\n"
     ]
    }
   ],
   "source": [
    "%%bigquery df_edges\n",
    "\n",
    "WITH\n",
    "\n",
    "extracts AS (\n",
    "  SELECT\n",
    "    CAST(FLOOR(ROW_NUMBER() OVER (PARTITION BY user_pseudo_id ORDER BY event_timestamp ASC) / 2) AS INT64) * 2 AS pair_odd_id,\n",
    "    CAST(FLOOR((ROW_NUMBER() OVER (PARTITION BY user_pseudo_id ORDER BY event_timestamp ASC) + 1) / 2) AS INT64) * 2 AS pair_even_id,\n",
    "    event_timestamp,\n",
    "    user_pseudo_id AS user_id,\n",
    "    event_name,\n",
    "    traffic_source.medium AS traffic_source,\n",
    "    (SELECT value.string_value FROM UNNEST(event_params) WHERE key = 'page_title') AS page_title,\n",
    "  FROM\n",
    "    `bigquery-public-data.ga4_obfuscated_sample_ecommerce.events_*`\n",
    "  WHERE\n",
    "    _TABLE_SUFFIX BETWEEN \"20210101\" AND \"20210103\"\n",
    "    AND event_name NOT IN (\n",
    "        \"page_view\",\n",
    "        \"session_start\",\n",
    "        \"first_visit\",\n",
    "        \"scroll\",\n",
    "        \"user_engagement\"\n",
    "    )\n",
    "),\n",
    "\n",
    "prepares AS (\n",
    "  SELECT\n",
    "    *,\n",
    "    STRUCT(\n",
    "      -- reduce duplicated events\n",
    "      event_name AS id,\n",
    "      event_timestamp AS ts,\n",
    "      traffic_source\n",
    "    ) AS event,\n",
    "  FROM\n",
    "    extracts\n",
    "),\n",
    "\n",
    "aggregates AS (\n",
    "  SELECT\n",
    "    user_id,\n",
    "    ARRAY_AGG(event ORDER BY event.ts ASC) AS events,\n",
    "  FROM\n",
    "    prepares\n",
    "  GROUP BY\n",
    "    user_id,\n",
    "    pair_odd_id\n",
    "  HAVING\n",
    "    COUNT(*) = 2\n",
    "  UNION ALL\n",
    "  SELECT\n",
    "    user_id,\n",
    "    ARRAY_AGG(event ORDER BY event.ts ASC) AS events,\n",
    "  FROM\n",
    "    prepares\n",
    "  GROUP BY\n",
    "    user_id,\n",
    "    pair_even_id\n",
    "  HAVING\n",
    "    COUNT(*) = 2\n",
    "),\n",
    "\n",
    "edges AS (\n",
    "  SELECT\n",
    "    user_id,\n",
    "    events[OFFSET(0)].id AS source,\n",
    "    events[OFFSET(1)].id AS target,\n",
    "    events[OFFSET(1)].ts - events[OFFSET(0)].ts AS delta,\n",
    "    -- meta\n",
    "    events[OFFSET(1)].traffic_source AS traffic_source,\n",
    "  FROM\n",
    "    aggregates\n",
    "  ORDER BY\n",
    "    user_id ASC,\n",
    "    events[OFFSET(0)].ts ASC\n",
    "),\n",
    "\n",
    "subs AS (\n",
    "  SELECT\n",
    "    source,\n",
    "    target,\n",
    "    traffic_source,\n",
    "    AVG(delta) as sub_delta,\n",
    "    COUNT(*) as sub_count,\n",
    "  FROM\n",
    "    edges\n",
    "  GROUP BY\n",
    "    source, target,\n",
    "    -- meta\n",
    "    traffic_source\n",
    ")\n",
    "\n",
    "SELECT\n",
    "  source,\n",
    "  target,\n",
    "  AVG(sub_delta) as delta,\n",
    "  SUM(sub_count) as cnt,\n",
    "  ARRAY_AGG(\n",
    "    STRUCT(\n",
    "      traffic_source,\n",
    "      sub_count as cnt,\n",
    "      sub_delta as delta\n",
    "    )\n",
    "  ) AS sub,\n",
    "FROM\n",
    "  subs\n",
    "WHERE\n",
    "  source != target\n",
    "GROUP BY\n",
    "  source, target\n",
    "-- reduce noisy edges\n",
    "HAVING\n",
    "  SUM(sub_count) > 10"
   ]
  },
  {
   "cell_type": "code",
   "execution_count": 3,
   "metadata": {},
   "outputs": [],
   "source": [
    "import datetime as dt\n",
    "import math\n",
    "\n",
    "def map_to_edges():\n",
    "    edges = list(\n",
    "        map(\n",
    "            lambda x: {\n",
    "                \"source\": x[0],\n",
    "                \"target\": x[1],\n",
    "                \"delta\": str(dt.timedelta(seconds=math.floor(x[2] / 1000000))),\n",
    "                \"count\": x[3],\n",
    "            },\n",
    "            df_edges.values,\n",
    "        )\n",
    "    )\n",
    "    counts = list(map(lambda x: x[\"count\"], edges))\n",
    "    counts_avg = np.mean(counts)\n",
    "    counts_std = np.std(counts)\n",
    "    for edge in edges:\n",
    "        edge[\"width\"] = max((edge[\"count\"] - counts_avg) / counts_std * 5 + 2, 0.5)\n",
    "    return edges\n",
    "\n",
    "edges = map_to_edges()"
   ]
  },
  {
   "cell_type": "markdown",
   "metadata": {},
   "source": [
    "## Nodes"
   ]
  },
  {
   "cell_type": "code",
   "execution_count": 4,
   "metadata": {},
   "outputs": [],
   "source": [
    "def aggregate_edges_to_nodes():\n",
    "    node_dict = {}\n",
    "    for edge in edges:\n",
    "        source = edge['source']\n",
    "        target = edge['target']\n",
    "        count = edge['count']\n",
    "        if not source in node_dict:\n",
    "            node_dict[source] = {\"id\": source, \"count\": 0, \"goto\": [], \"come\": []}\n",
    "        if not target in node_dict:\n",
    "            node_dict[target] = {\"id\": target, \"count\": 0, \"goto\": [], \"come\": []}\n",
    "        node_dict[target][\"count\"] += count\n",
    "        node_dict[source][\"goto\"].append(edge)\n",
    "        node_dict[target][\"come\"].append(edge)\n",
    "    nodes = list(node_dict.values())\n",
    "    counts = list(map(lambda x: x[\"count\"], nodes))\n",
    "    counts_avg = np.mean(counts)\n",
    "    counts_std = np.std(counts)\n",
    "    for node in node_dict.values():\n",
    "        node['size'] = (node[\"count\"] - counts_avg) / counts_std * 30 + 50\n",
    "    return nodes\n",
    "\n",
    "\n",
    "nodes = aggregate_edges_to_nodes()"
   ]
  },
  {
   "cell_type": "markdown",
   "metadata": {},
   "source": [
    "## Graphs"
   ]
  },
  {
   "cell_type": "code",
   "execution_count": 5,
   "metadata": {},
   "outputs": [],
   "source": [
    "cytoscapeobj = ics.CytoscapeWidget()"
   ]
  },
  {
   "cell_type": "code",
   "execution_count": 6,
   "metadata": {},
   "outputs": [],
   "source": [
    "cytoscapeobj.graph.add_graph_from_json(\n",
    "    {\n",
    "        \"nodes\": nodes,\n",
    "        \"edges\": edges,\n",
    "    },\n",
    "    directed=True,\n",
    ")"
   ]
  },
  {
   "cell_type": "code",
   "execution_count": 7,
   "metadata": {},
   "outputs": [],
   "source": [
    "cytoscapeobj.set_style(\n",
    "    [\n",
    "        {\n",
    "            \"selector\": \"node\",\n",
    "            \"css\": {\n",
    "                \"content\": \"data(id)\",\n",
    "                \"text-valign\": \"center\",\n",
    "                \"color\": \"white\",\n",
    "                \"text-outline-width\": 1.5,\n",
    "                \"text-outline-color\": \"green\",\n",
    "                \"background-color\": \"green\",\n",
    "                \"width\": 'data(size)',\n",
    "                \"height\": 'data(size)',\n",
    "            },\n",
    "        },\n",
    "        {\n",
    "            \"selector\": \"edge\",\n",
    "            \"style\": {\n",
    "                \"width\": \"data(width)\",\n",
    "                \"label\": \"data(delta)\",\n",
    "                \"font-size\": \"8.5px\",\n",
    "                \"line-color\": \"#ccc\",\n",
    "            },\n",
    "        },\n",
    "        {\n",
    "            \"selector\": \"edge.directed\",\n",
    "            \"style\": {\n",
    "                \"curve-style\": \"bezier\",\n",
    "                \"target-arrow-shape\": \"triangle\",\n",
    "                \"target-arrow-color\": \"green\",\n",
    "            },\n",
    "        },\n",
    "        # {\n",
    "        #     \"selector\": 'edge.loop',\n",
    "        #     \"style\": {\n",
    "        #       'control-point-step-size': \"75\",\n",
    "        #     }\n",
    "        # },\n",
    "    ]\n",
    ")\n",
    "cytoscapeobj.set_layout(\n",
    "    name=\"cola\",\n",
    "    animate=True,\n",
    "    randomize=False,\n",
    "    animationDuration=150000,\n",
    "    nodeSpacing=55,\n",
    ")"
   ]
  },
  {
   "cell_type": "markdown",
   "metadata": {},
   "source": [
    "## Widgets"
   ]
  },
  {
   "cell_type": "code",
   "execution_count": 8,
   "metadata": {},
   "outputs": [],
   "source": [
    "output_main = widgets.Output(layout={\"width\": \"50%\"})\n",
    "output_meta = widgets.Output(layout={\"width\": \"50%\"})\n",
    "\n",
    "def render_node_detail(event):\n",
    "    with output_main:\n",
    "        display('asdf')\n",
    "    data = event[\"data\"]\n",
    "    df_main = pd.DataFrame([{ \"id\": data[\"id\"], \"count\": data[\"count\"] }])\n",
    "    meta = event[\"goto\"] + event[\"come\"]\n",
    "    for row in meta:\n",
    "        del row[\"width\"]\n",
    "    df_meta = pd.DataFrame(meta)\n",
    "    output_main.clear_output(wait=True)\n",
    "    with output_main:\n",
    "        display(df_main)\n",
    "    # output_meta.clear_output(wait=True)\n",
    "    # with output_meta:\n",
    "    #     display(df_meta)\n",
    "\n",
    "def render_edge_detail(event):\n",
    "    with output_meta:\n",
    "        cols = [\"col1\", \"col2\"]\n",
    "        data = [[\"text1\", \"text2\"]]\n",
    "        df = pd.DataFrame(data=data, columns=cols)\n",
    "        output_meta.clear_output(wait=True)\n",
    "        display(event[\"data\"])\n",
    "\n",
    "cytoscapeobj.on(\"node\", \"click\", render_node_detail)\n",
    "cytoscapeobj.on(\"edge\", \"click\", render_edge_detail)"
   ]
  },
  {
   "cell_type": "code",
   "execution_count": 9,
   "metadata": {},
   "outputs": [
    {
     "data": {
      "application/vnd.jupyter.widget-view+json": {
       "model_id": "140de6438df045b7bef59c69ae5552a4",
       "version_major": 2,
       "version_minor": 0
      },
      "text/plain": [
       "CytoscapeWidget(cytoscape_layout={'name': 'cola', 'animate': True, 'randomize': False, 'animationDuration': 15…"
      ]
     },
     "metadata": {},
     "output_type": "display_data"
    }
   ],
   "source": [
    "cytoscapeobj"
   ]
  },
  {
   "cell_type": "code",
   "execution_count": 10,
   "metadata": {},
   "outputs": [
    {
     "data": {
      "application/vnd.jupyter.widget-view+json": {
       "model_id": "d6f99b9486094cf3818623e0341aecb8",
       "version_major": 2,
       "version_minor": 0
      },
      "text/plain": [
       "HBox(children=(Output(layout=Layout(width='50%')), Output(layout=Layout(width='50%'))))"
      ]
     },
     "metadata": {},
     "output_type": "display_data"
    }
   ],
   "source": [
    "widgets.HBox([output_main, output_meta])"
   ]
  },
  {
   "cell_type": "code",
   "execution_count": null,
   "metadata": {},
   "outputs": [],
   "source": []
  }
 ],
 "metadata": {
  "interpreter": {
   "hash": "aee8b7b246df8f9039afb4144a1f6fd8d2ca17a180786b69acc140d282b71a49"
  },
  "kernelspec": {
   "display_name": "Python 3.9.2 64-bit",
   "language": "python",
   "name": "python3"
  },
  "language_info": {
   "codemirror_mode": {
    "name": "ipython",
    "version": 3
   },
   "file_extension": ".py",
   "mimetype": "text/x-python",
   "name": "python",
   "nbconvert_exporter": "python",
   "pygments_lexer": "ipython3",
   "version": "3.10.1"
  },
  "orig_nbformat": 4
 },
 "nbformat": 4,
 "nbformat_minor": 2
}
